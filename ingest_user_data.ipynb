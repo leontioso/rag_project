{
 "cells": [
  {
   "cell_type": "code",
   "execution_count": 18,
   "metadata": {},
   "outputs": [],
   "source": [
    "import os\n",
    "from qdrant_client import QdrantClient\n",
    "from dotenv import load_dotenv\n",
    "from openai import AzureOpenAI"
   ]
  },
  {
   "cell_type": "code",
   "execution_count": 19,
   "metadata": {},
   "outputs": [],
   "source": [
    "load_dotenv()\n",
    "with open('external_data/Customs Flash: New Circular for the EU regulation establishing the CBAM.txt') as file:\n",
    "    external_text = \" \".join(file.readlines())"
   ]
  },
  {
   "cell_type": "code",
   "execution_count": 20,
   "metadata": {},
   "outputs": [],
   "source": [
    "api_key = os.environ['AZURE_API_KEY']\n",
    "endpoint = os.environ['AZURE_ENDPOINT']\n",
    "api_version = os.environ['API_VERSION']"
   ]
  },
  {
   "cell_type": "code",
   "execution_count": 21,
   "metadata": {},
   "outputs": [],
   "source": [
    "azure_client = AzureOpenAI(\n",
    "    api_key= api_key,  \n",
    "    api_version=api_version,\n",
    "    azure_endpoint= endpoint\n",
    ")\n",
    "\n",
    "db_client = QdrantClient(\"localhost\", port=6333)"
   ]
  },
  {
   "cell_type": "code",
   "execution_count": 12,
   "metadata": {},
   "outputs": [
    {
     "data": {
      "text/plain": [
       "'Circular E_2072/2023 notifies Regulation (EU) 2023/956 CBAM and provides an overview of the general framework for the implementation of the relevant measure. CBAM, which was activated on October 1st, 2023, is an environmental measure relating to the import of certain carbon-intensive goods, namely aluminium, iron and steel, electricity, hydrogen, fertilisers and cement, while the exact goods that are impacted by the measure are further specified by TARIC Codes, Combined Nomenclature or Harmonised System Codes.'"
      ]
     },
     "execution_count": 12,
     "metadata": {},
     "output_type": "execute_result"
    }
   ],
   "source": [
    "external_text"
   ]
  },
  {
   "cell_type": "code",
   "execution_count": 14,
   "metadata": {},
   "outputs": [],
   "source": []
  },
  {
   "cell_type": "code",
   "execution_count": 15,
   "metadata": {},
   "outputs": [
    {
     "data": {
      "text/plain": [
       "1536"
      ]
     },
     "execution_count": 15,
     "metadata": {},
     "output_type": "execute_result"
    }
   ],
   "source": []
  },
  {
   "cell_type": "code",
   "execution_count": null,
   "metadata": {},
   "outputs": [],
   "source": [
    "client = QdrantClient(\"localhost\", port=6333)\n",
    "from qdrant_client.http import models"
   ]
  }
 ],
 "metadata": {
  "kernelspec": {
   "display_name": "rag_project",
   "language": "python",
   "name": "python3"
  },
  "language_info": {
   "codemirror_mode": {
    "name": "ipython",
    "version": 3
   },
   "file_extension": ".py",
   "mimetype": "text/x-python",
   "name": "python",
   "nbconvert_exporter": "python",
   "pygments_lexer": "ipython3",
   "version": "3.10.0"
  }
 },
 "nbformat": 4,
 "nbformat_minor": 2
}
