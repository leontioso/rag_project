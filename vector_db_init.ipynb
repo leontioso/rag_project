{
 "cells": [
  {
   "cell_type": "code",
   "execution_count": 21,
   "metadata": {},
   "outputs": [],
   "source": [
    "import os\n",
    "from qdrant_client import QdrantClient\n",
    "from qdrant_client.http.models import Distance, VectorParams, PointStruct\n",
    "from dotenv import load_dotenv\n",
    "from openai import AzureOpenAI\n",
    "from pathlib import Path\n",
    "from utils import generate_embedding\n",
    "from openai import AzureOpenAI"
   ]
  },
  {
   "cell_type": "code",
   "execution_count": 22,
   "metadata": {},
   "outputs": [],
   "source": [
    "# Retrieval of environmental variables\n",
    "load_dotenv()\n",
    "api_key = os.environ['AZURE_API_KEY']\n",
    "azure_endpoint = os.environ['AZURE_ENDPOINT']\n",
    "api_version = os.environ['API_VERSION']"
   ]
  },
  {
   "cell_type": "code",
   "execution_count": 23,
   "metadata": {},
   "outputs": [],
   "source": [
    "# initialization of the clients\n",
    "db_client = QdrantClient(\"localhost\", port=6333)\n",
    "azure_client = AzureOpenAI(api_key=api_key, azure_endpoint=azure_endpoint, api_version=api_version)"
   ]
  },
  {
   "cell_type": "code",
   "execution_count": 24,
   "metadata": {},
   "outputs": [],
   "source": [
    "# Checking for existing database. Otherwise creation of user's database\n",
    "try:\n",
    "    db_client.create_collection(\n",
    "        collection_name=\"User1\",\n",
    "        vectors_config=VectorParams(size=1536, distance=Distance.COSINE),\n",
    "    )\n",
    "except:\n",
    "    print(\"User's db already exists\")"
   ]
  },
  {
   "cell_type": "code",
   "execution_count": 25,
   "metadata": {},
   "outputs": [],
   "source": [
    "# Retrieve of the text of user's data\n",
    "list_text_files = [file for file in Path('./external_data').iterdir() if file.is_file() and file.suffix == '.txt']\n",
    "text_for_embed = list()\n",
    "for text_file in list_text_files:\n",
    "    with open(text_file) as file:\n",
    "        text = \" \".join(file.readlines())\n",
    "        text_for_embed.append(text)"
   ]
  },
  {
   "cell_type": "code",
   "execution_count": 26,
   "metadata": {},
   "outputs": [],
   "source": [
    "# Retrieval of doc embeddings\n",
    "embeddings = [generate_embedding(azure_client, 'embedding-model', text) for text in text_for_embed]"
   ]
  },
  {
   "cell_type": "code",
   "execution_count": 27,
   "metadata": {},
   "outputs": [
    {
     "data": {
      "text/plain": [
       "UpdateResult(operation_id=0, status=<UpdateStatus.COMPLETED: 'completed'>)"
      ]
     },
     "execution_count": 27,
     "metadata": {},
     "output_type": "execute_result"
    }
   ],
   "source": [
    "# Ingestion of embeddings and their respective text\n",
    "db_client.upsert(\n",
    "    collection_name='User1',\n",
    "    wait=True,\n",
    "    points=[PointStruct(id=idx+1, vector=pair[0], payload={'article': pair[1]}) \n",
    "                for idx, pair in enumerate(zip(embeddings, text_for_embed, strict=True))]\n",
    ")"
   ]
  }
 ],
 "metadata": {
  "kernelspec": {
   "display_name": "rag_project",
   "language": "python",
   "name": "python3"
  },
  "language_info": {
   "codemirror_mode": {
    "name": "ipython",
    "version": 3
   },
   "file_extension": ".py",
   "mimetype": "text/x-python",
   "name": "python",
   "nbconvert_exporter": "python",
   "pygments_lexer": "ipython3",
   "version": "3.10.0"
  }
 },
 "nbformat": 4,
 "nbformat_minor": 2
}
