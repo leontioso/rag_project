{
 "cells": [
  {
   "cell_type": "code",
   "execution_count": 1,
   "metadata": {},
   "outputs": [
    {
     "ename": "ImportError",
     "evalue": "cannot import name 'generate_embeddings' from 'utils' (/Users/leontiosorfanos/Desktop/pwc_assignment/rag_project/utils.py)",
     "output_type": "error",
     "traceback": [
      "\u001b[0;31m---------------------------------------------------------------------------\u001b[0m",
      "\u001b[0;31mImportError\u001b[0m                               Traceback (most recent call last)",
      "Cell \u001b[0;32mIn[1], line 6\u001b[0m\n\u001b[1;32m      4\u001b[0m \u001b[38;5;28;01mfrom\u001b[39;00m \u001b[38;5;21;01mrag_frame\u001b[39;00m \u001b[38;5;28;01mimport\u001b[39;00m RAG\n\u001b[1;32m      5\u001b[0m \u001b[38;5;28;01mfrom\u001b[39;00m \u001b[38;5;21;01mqdrant_client\u001b[39;00m \u001b[38;5;28;01mimport\u001b[39;00m QdrantClient\n\u001b[0;32m----> 6\u001b[0m \u001b[38;5;28;01mfrom\u001b[39;00m \u001b[38;5;21;01mutils\u001b[39;00m \u001b[38;5;28;01mimport\u001b[39;00m generate_embeddings\n",
      "\u001b[0;31mImportError\u001b[0m: cannot import name 'generate_embeddings' from 'utils' (/Users/leontiosorfanos/Desktop/pwc_assignment/rag_project/utils.py)"
     ]
    }
   ],
   "source": [
    "import os\n",
    "from dotenv import load_dotenv\n",
    "from openai import AzureOpenAI\n",
    "from rag_frame import RAG\n",
    "from qdrant_client import QdrantClient\n",
    "from utils import generate_embedding"
   ]
  },
  {
   "cell_type": "code",
   "execution_count": 2,
   "metadata": {},
   "outputs": [],
   "source": [
    "load_dotenv()\n",
    "azure_key = os.environ['AZURE_API_KEY']\n",
    "api_version = os.environ['API_VERSION']\n",
    "azure_endpoint = os.environ['AZURE_ENDPOINT']"
   ]
  },
  {
   "cell_type": "code",
   "execution_count": 3,
   "metadata": {},
   "outputs": [],
   "source": [
    "azure_client = AzureOpenAI(\n",
    "    api_key=azure_key,  \n",
    "    api_version=api_version,\n",
    "    azure_endpoint= azure_endpoint  \n",
    ")\n",
    "\n",
    "db_client = QdrantClient('localhost', port=6333)"
   ]
  },
  {
   "cell_type": "code",
   "execution_count": 4,
   "metadata": {},
   "outputs": [],
   "source": [
    "rag = RAG(db_client, collection_name=\"User1\")"
   ]
  },
  {
   "cell_type": "code",
   "execution_count": 5,
   "metadata": {},
   "outputs": [],
   "source": [
    "query = \"Which is the latest law for the citizen's protection from phishing\"\n",
    "query_embedding = generate_embeddings(azure_client, 'embedding-model', query)"
   ]
  },
  {
   "cell_type": "code",
   "execution_count": 8,
   "metadata": {},
   "outputs": [],
   "source": [
    "similar_texts = rag.retrieve_docs(query_embedding, top_k_docs=1)"
   ]
  },
  {
   "cell_type": "code",
   "execution_count": 9,
   "metadata": {},
   "outputs": [
    {
     "data": {
      "text/plain": [
       "['Law 5019/2023 was recently published in the Goverment Gazette and includes, inter alia, provisions around the strengthening of the consumers’ protection against phishing attacks.']"
      ]
     },
     "execution_count": 9,
     "metadata": {},
     "output_type": "execute_result"
    }
   ],
   "source": [
    "similar_texts"
   ]
  },
  {
   "cell_type": "code",
   "execution_count": 11,
   "metadata": {},
   "outputs": [],
   "source": [
    "messages = [{\"role\": \"system\", \"content\": similar_text} for similar_text in similar_texts]\n",
    "messages.append({\"role\": \"user\", \"content\": query})\n",
    "response = rag.generate_response(messages=messages, model_name=\"gpt-4\")\n"
   ]
  },
  {
   "cell_type": "code",
   "execution_count": 20,
   "metadata": {},
   "outputs": [
    {
     "data": {
      "text/plain": [
       "\"The latest law for citizens' protection from phishing is Law 5019/2023.\""
      ]
     },
     "execution_count": 20,
     "metadata": {},
     "output_type": "execute_result"
    }
   ],
   "source": [
    "response.choices[0].message.content"
   ]
  }
 ],
 "metadata": {
  "kernelspec": {
   "display_name": "rag_project",
   "language": "python",
   "name": "python3"
  },
  "language_info": {
   "codemirror_mode": {
    "name": "ipython",
    "version": 3
   },
   "file_extension": ".py",
   "mimetype": "text/x-python",
   "name": "python",
   "nbconvert_exporter": "python",
   "pygments_lexer": "ipython3",
   "version": "3.10.0"
  }
 },
 "nbformat": 4,
 "nbformat_minor": 2
}
